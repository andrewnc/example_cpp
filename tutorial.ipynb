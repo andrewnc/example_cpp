{
 "cells": [
  {
   "cell_type": "markdown",
   "metadata": {},
   "source": [
    "# C++ Crash Course"
   ]
  },
  {
   "cell_type": "markdown",
   "metadata": {},
   "source": [
    "# 1. Why C++?"
   ]
  },
  {
   "cell_type": "markdown",
   "metadata": {},
   "source": [
    "## 1.a) Fast\n",
    "## 1.b) Abstract\n",
    "## 1.c) Ubiquitous"
   ]
  },
  {
   "cell_type": "markdown",
   "metadata": {},
   "source": [
    "# 2. C++ is the number one language in competitive programming and %20 of all developers worldwide are working on a project that uses c++ (61% use javascript and 34% use python)"
   ]
  },
  {
   "cell_type": "markdown",
   "metadata": {},
   "source": [
    "  "
   ]
  },
  {
   "cell_type": "markdown",
   "metadata": {},
   "source": [
    "# STL"
   ]
  },
  {
   "cell_type": "markdown",
   "metadata": {},
   "source": [
    "## Array"
   ]
  },
  {
   "cell_type": "markdown",
   "metadata": {},
   "source": [
    "Fixed size lists of a single type"
   ]
  },
  {
   "cell_type": "code",
   "execution_count": 1,
   "metadata": {},
   "outputs": [],
   "source": [
    "int my_array[3] = {1,2,3};"
   ]
  },
  {
   "cell_type": "code",
   "execution_count": 2,
   "metadata": {},
   "outputs": [
    {
     "name": "stdout",
     "output_type": "stream",
     "text": [
      "123"
     ]
    }
   ],
   "source": [
    "for(int i : my_array){\n",
    "    std:: cout << i;\n",
    "}"
   ]
  },
  {
   "cell_type": "markdown",
   "metadata": {},
   "source": [
    "## Vector"
   ]
  },
  {
   "cell_type": "markdown",
   "metadata": {},
   "source": [
    "Dynamic sized lists of a single type"
   ]
  },
  {
   "cell_type": "code",
   "execution_count": 3,
   "metadata": {},
   "outputs": [],
   "source": [
    "#include <vector>"
   ]
  },
  {
   "cell_type": "code",
   "execution_count": 4,
   "metadata": {},
   "outputs": [],
   "source": [
    "std::vector<int> my_vector = {1,2,3};"
   ]
  },
  {
   "cell_type": "code",
   "execution_count": 5,
   "metadata": {},
   "outputs": [
    {
     "name": "stdout",
     "output_type": "stream",
     "text": [
      "123"
     ]
    }
   ],
   "source": [
    "for(int i: my_vector){\n",
    "    std::cout << i;\n",
    "}"
   ]
  },
  {
   "cell_type": "code",
   "execution_count": 6,
   "metadata": {},
   "outputs": [],
   "source": [
    "my_vector.push_back(4);"
   ]
  },
  {
   "cell_type": "markdown",
   "metadata": {},
   "source": [
    "## Deque"
   ]
  },
  {
   "cell_type": "markdown",
   "metadata": {},
   "source": [
    "## Stack"
   ]
  },
  {
   "cell_type": "markdown",
   "metadata": {},
   "source": [
    "## Queue"
   ]
  },
  {
   "cell_type": "markdown",
   "metadata": {},
   "source": [
    "##  Forward List/Singly Linked List"
   ]
  },
  {
   "cell_type": "markdown",
   "metadata": {},
   "source": [
    "## Heap"
   ]
  },
  {
   "cell_type": "markdown",
   "metadata": {},
   "source": [
    "## Set"
   ]
  },
  {
   "cell_type": "code",
   "execution_count": 7,
   "metadata": {},
   "outputs": [],
   "source": [
    "#include <set>"
   ]
  },
  {
   "cell_type": "code",
   "execution_count": 8,
   "metadata": {},
   "outputs": [],
   "source": [
    "std::vector<int> dup = {1,1,1,1,1,2,3,4};\n",
    "std::vector<int> sing = {1,2,3,4};"
   ]
  },
  {
   "cell_type": "code",
   "execution_count": 9,
   "metadata": {},
   "outputs": [],
   "source": [
    "std::set<int> s;"
   ]
  },
  {
   "cell_type": "code",
   "execution_count": 10,
   "metadata": {},
   "outputs": [],
   "source": [
    "for(int i: dup){\n",
    "    s.insert(i);\n",
    "}"
   ]
  },
  {
   "cell_type": "code",
   "execution_count": 11,
   "metadata": {},
   "outputs": [
    {
     "name": "stdout",
     "output_type": "stream",
     "text": [
      "1234"
     ]
    }
   ],
   "source": [
    "for(int i: s){\n",
    "    std::cout << i;\n",
    "}"
   ]
  },
  {
   "cell_type": "code",
   "execution_count": 12,
   "metadata": {},
   "outputs": [],
   "source": [
    "std::vector<int> dup_after_set(s.begin(), s.end());"
   ]
  },
  {
   "cell_type": "code",
   "execution_count": 13,
   "metadata": {},
   "outputs": [
    {
     "name": "stdout",
     "output_type": "stream",
     "text": [
      "11223344"
     ]
    }
   ],
   "source": [
    "for(int i = 0; i < dup_after_set.size(); i++){\n",
    "    std::cout << dup_after_set[i]<< sing[i];\n",
    "}"
   ]
  },
  {
   "cell_type": "markdown",
   "metadata": {},
   "source": [
    "## Map/Dictionary"
   ]
  },
  {
   "cell_type": "code",
   "execution_count": 14,
   "metadata": {},
   "outputs": [],
   "source": [
    "#include <map>\n",
    "#include <string>\n",
    "#include <sstream>\n",
    "#include <vector>\n",
    "#include <iterator>\n",
    "\n",
    "template<typename Out>\n",
    "void split(const std::string &s, char delim, Out result) {\n",
    "    std::stringstream ss(s);\n",
    "    std::string item;\n",
    "    while (std::getline(ss, item, delim)) {\n",
    "        *(result++) = item;\n",
    "    }\n",
    "}\n",
    "\n",
    "std::vector<std::string> split(const std::string &s, char delim) {\n",
    "    std::vector<std::string> elems;\n",
    "    split(s, delim, std::back_inserter(elems));\n",
    "    return elems;\n",
    "}"
   ]
  },
  {
   "cell_type": "code",
   "execution_count": 15,
   "metadata": {},
   "outputs": [],
   "source": [
    "std::map<int,std::string> m;"
   ]
  },
  {
   "cell_type": "code",
   "execution_count": 16,
   "metadata": {},
   "outputs": [],
   "source": [
    "std::string st = \"this is a sentence\";"
   ]
  },
  {
   "cell_type": "code",
   "execution_count": 17,
   "metadata": {},
   "outputs": [],
   "source": [
    "std::vector<std::string> word_list = split(st, ' ');"
   ]
  },
  {
   "cell_type": "code",
   "execution_count": 18,
   "metadata": {},
   "outputs": [
    {
     "name": "stdout",
     "output_type": "stream",
     "text": [
      "this is a sentence "
     ]
    }
   ],
   "source": [
    "for(int i = 0; i < word_list.size(); i++){\n",
    "    std::cout << word_list[i] << \" \";\n",
    "}"
   ]
  },
  {
   "cell_type": "code",
   "execution_count": 19,
   "metadata": {},
   "outputs": [],
   "source": [
    "for(int i = 0; i < word_list.size(); i++){\n",
    "    m[i] = word_list[i];\n",
    "}"
   ]
  },
  {
   "cell_type": "code",
   "execution_count": 20,
   "metadata": {},
   "outputs": [
    {
     "name": "stdout",
     "output_type": "stream",
     "text": [
      "{ 0 : this }{ 1 : is }{ 2 : a }{ 3 : sentence }"
     ]
    }
   ],
   "source": [
    "for(auto& el: m){\n",
    "    std::cout << \"{ \" << el.first << \" : \" << el.second << \" }\";\n",
    "}"
   ]
  },
  {
   "cell_type": "markdown",
   "metadata": {},
   "source": [
    "# Algorithm"
   ]
  },
  {
   "cell_type": "code",
   "execution_count": 21,
   "metadata": {},
   "outputs": [],
   "source": [
    "#include <algorithm>\n",
    "#include <utility>"
   ]
  },
  {
   "cell_type": "code",
   "execution_count": 22,
   "metadata": {},
   "outputs": [
    {
     "name": "stdout",
     "output_type": "stream",
     "text": [
      "5"
     ]
    }
   ],
   "source": [
    "int my_count = std::count(dup.begin(), dup.end(),1);\n",
    "std::cout << my_count;"
   ]
  },
  {
   "cell_type": "code",
   "execution_count": 23,
   "metadata": {},
   "outputs": [],
   "source": [
    "bool is_bigger_than_one(int x){\n",
    "    if(x>1){\n",
    "        return true;\n",
    "    }else{\n",
    "        return false;\n",
    "    }\n",
    "}"
   ]
  },
  {
   "cell_type": "code",
   "execution_count": 24,
   "metadata": {},
   "outputs": [
    {
     "name": "stdout",
     "output_type": "stream",
     "text": [
      "3"
     ]
    }
   ],
   "source": [
    "int another_count = std::count_if(dup.begin(), dup.end(), is_bigger_than_one);\n",
    "std::cout << another_count;"
   ]
  },
  {
   "cell_type": "code",
   "execution_count": 25,
   "metadata": {},
   "outputs": [],
   "source": [
    "std::vector<int> myvector;\n",
    "for (int i=1; i<6; i++) myvector.push_back (i*10); // myvector: 10 20 30 40 50\n",
    "\n",
    "int myints[] = {10,20,80,320,1024};                //   myints: 10 20 80 320 1024\n",
    "\n",
    "std::pair<std::vector<int>::iterator,int*> mypair;\n",
    "\n",
    "// using default comparison:\n",
    "mypair = std::mismatch (myvector.begin(), myvector.end(), myints);"
   ]
  },
  {
   "cell_type": "code",
   "execution_count": 26,
   "metadata": {},
   "outputs": [
    {
     "name": "stdout",
     "output_type": "stream",
     "text": [
      "First mismatching elements: 30 and 80\n"
     ]
    }
   ],
   "source": [
    "std::cout << \"First mismatching elements: \" << *mypair.first;\n",
    "std::cout << \" and \" << *mypair.second << '\\n';"
   ]
  },
  {
   "cell_type": "markdown",
   "metadata": {},
   "source": [
    "## sort, is_sorted, binary_search, merge, set_union/intersection"
   ]
  },
  {
   "cell_type": "markdown",
   "metadata": {},
   "source": [
    "## next_permuation"
   ]
  },
  {
   "cell_type": "code",
   "execution_count": 27,
   "metadata": {
    "scrolled": true
   },
   "outputs": [
    {
     "name": "stdout",
     "output_type": "stream",
     "text": [
      "The 5! possible permutations with 5 elements:\n",
      "0 1 2 3 4\n",
      "0 1 2 4 3\n",
      "0 1 3 2 4\n",
      "0 1 3 4 2\n",
      "0 1 4 2 3\n",
      "0 1 4 3 2\n",
      "0 2 1 3 4\n",
      "0 2 1 4 3\n",
      "0 2 3 1 4\n",
      "0 2 3 4 1\n",
      "0 2 4 1 3\n",
      "0 2 4 3 1\n",
      "0 3 1 2 4\n",
      "0 3 1 4 2\n",
      "0 3 2 1 4\n",
      "0 3 2 4 1\n",
      "0 3 4 1 2\n",
      "0 3 4 2 1\n",
      "0 4 1 2 3\n",
      "0 4 1 3 2\n",
      "0 4 2 1 3\n",
      "0 4 2 3 1\n",
      "0 4 3 1 2\n",
      "0 4 3 2 1\n",
      "1 0 2 3 4\n",
      "1 0 2 4 3\n",
      "1 0 3 2 4\n",
      "1 0 3 4 2\n",
      "1 0 4 2 3\n",
      "1 0 4 3 2\n",
      "1 2 0 3 4\n",
      "1 2 0 4 3\n",
      "1 2 3 0 4\n",
      "1 2 3 4 0\n",
      "1 2 4 0 3\n",
      "1 2 4 3 0\n",
      "1 3 0 2 4\n",
      "1 3 0 4 2\n",
      "1 3 2 0 4\n",
      "1 3 2 4 0\n",
      "1 3 4 0 2\n",
      "1 3 4 2 0\n",
      "1 4 0 2 3\n",
      "1 4 0 3 2\n",
      "1 4 2 0 3\n",
      "1 4 2 3 0\n",
      "1 4 3 0 2\n",
      "1 4 3 2 0\n",
      "2 0 1 3 4\n",
      "2 0 1 4 3\n",
      "2 0 3 1 4\n",
      "2 0 3 4 1\n",
      "2 0 4 1 3\n",
      "2 0 4 3 1\n",
      "2 1 0 3 4\n",
      "2 1 0 4 3\n",
      "2 1 3 0 4\n",
      "2 1 3 4 0\n",
      "2 1 4 0 3\n",
      "2 1 4 3 0\n",
      "2 3 0 1 4\n",
      "2 3 0 4 1\n",
      "2 3 1 0 4\n",
      "2 3 1 4 0\n",
      "2 3 4 0 1\n",
      "2 3 4 1 0\n",
      "2 4 0 1 3\n",
      "2 4 0 3 1\n",
      "2 4 1 0 3\n",
      "2 4 1 3 0\n",
      "2 4 3 0 1\n",
      "2 4 3 1 0\n",
      "3 0 1 2 4\n",
      "3 0 1 4 2\n",
      "3 0 2 1 4\n",
      "3 0 2 4 1\n",
      "3 0 4 1 2\n",
      "3 0 4 2 1\n",
      "3 1 0 2 4\n",
      "3 1 0 4 2\n",
      "3 1 2 0 4\n",
      "3 1 2 4 0\n",
      "3 1 4 0 2\n",
      "3 1 4 2 0\n",
      "3 2 0 1 4\n",
      "3 2 0 4 1\n",
      "3 2 1 0 4\n",
      "3 2 1 4 0\n",
      "3 2 4 0 1\n",
      "3 2 4 1 0\n",
      "3 4 0 1 2\n",
      "3 4 0 2 1\n",
      "3 4 1 0 2\n",
      "3 4 1 2 0\n",
      "3 4 2 0 1\n",
      "3 4 2 1 0\n",
      "4 0 1 2 3\n",
      "4 0 1 3 2\n",
      "4 0 2 1 3\n",
      "4 0 2 3 1\n",
      "4 0 3 1 2\n",
      "4 0 3 2 1\n",
      "4 1 0 2 3\n",
      "4 1 0 3 2\n",
      "4 1 2 0 3\n",
      "4 1 2 3 0\n",
      "4 1 3 0 2\n",
      "4 1 3 2 0\n",
      "4 2 0 1 3\n",
      "4 2 0 3 1\n",
      "4 2 1 0 3\n",
      "4 2 1 3 0\n",
      "4 2 3 0 1\n",
      "4 2 3 1 0\n",
      "4 3 0 1 2\n",
      "4 3 0 2 1\n",
      "4 3 1 0 2\n",
      "4 3 1 2 0\n",
      "4 3 2 0 1\n",
      "4 3 2 1 0\n"
     ]
    }
   ],
   "source": [
    "int nums[5];\n",
    "\n",
    "for(int i = 0; i < 5; i++){\n",
    "    nums[i] = i;\n",
    "}\n",
    "\n",
    "std::sort (nums,nums+5);\n",
    "\n",
    "std::cout << \"The 5! possible permutations with 5 elements:\\n\";\n",
    "do {\n",
    "std::cout << nums[0] << ' ' << nums[1] << ' ' << nums[2] << ' ' << nums[3] << ' ' << nums[4] << '\\n';\n",
    "} while ( std::next_permutation(nums,nums+5) );\n"
   ]
  },
  {
   "cell_type": "code",
   "execution_count": 28,
   "metadata": {},
   "outputs": [],
   "source": [
    "#include <iostream>\n",
    "#include <xtensor/xarray.hpp>\n",
    "#include \"xtensor/xio.hpp\"\n",
    "#include \"xtensor/xbuilder.hpp\""
   ]
  },
  {
   "cell_type": "code",
   "execution_count": 29,
   "metadata": {},
   "outputs": [
    {
     "name": "stdout",
     "output_type": "stream",
     "text": [
      "hello world"
     ]
    }
   ],
   "source": [
    "std::cout << \"hello world\";"
   ]
  },
  {
   "cell_type": "code",
   "execution_count": 30,
   "metadata": {},
   "outputs": [],
   "source": [
    "xt::xarray<double> a {{1,2,3},{4,5,6},{7,8,9}};"
   ]
  },
  {
   "cell_type": "code",
   "execution_count": 31,
   "metadata": {
    "scrolled": true
   },
   "outputs": [
    {
     "name": "stdout",
     "output_type": "stream",
     "text": [
      "{{ 1.,  2.,  3.},\n",
      " { 4.,  5.,  6.},\n",
      " { 7.,  8.,  9.}}"
     ]
    }
   ],
   "source": [
    "std::cout << a;"
   ]
  },
  {
   "cell_type": "code",
   "execution_count": 32,
   "metadata": {},
   "outputs": [],
   "source": [
    "a.reshape({3*3,1})"
   ]
  },
  {
   "cell_type": "code",
   "execution_count": 33,
   "metadata": {},
   "outputs": [
    {
     "name": "stdout",
     "output_type": "stream",
     "text": [
      "{{ 1.},\n",
      " { 2.},\n",
      " { 3.},\n",
      " { 4.},\n",
      " { 5.},\n",
      " { 6.},\n",
      " { 7.},\n",
      " { 8.},\n",
      " { 9.}}"
     ]
    }
   ],
   "source": [
    "std::cout << a;"
   ]
  },
  {
   "cell_type": "code",
   "execution_count": 34,
   "metadata": {},
   "outputs": [
    {
     "name": "stdout",
     "output_type": "stream",
     "text": [
      "1\n",
      "1\n",
      "1\n",
      "1\n",
      "1\n",
      "1\n",
      "1\n",
      "1\n",
      "1\n"
     ]
    }
   ],
   "source": [
    "for(int i = 0; i < a.size(); i++){\n",
    "    std::cout << a[i] << \"\\n\";\n",
    "}"
   ]
  },
  {
   "cell_type": "code",
   "execution_count": 35,
   "metadata": {},
   "outputs": [],
   "source": [
    "xt::xarray<double> I;\n",
    "I = xt::eye(4);"
   ]
  },
  {
   "cell_type": "code",
   "execution_count": 36,
   "metadata": {},
   "outputs": [
    {
     "name": "stdout",
     "output_type": "stream",
     "text": [
      "{{ 1.,  0.,  0.,  0.},\n",
      " { 0.,  1.,  0.,  0.},\n",
      " { 0.,  0.,  1.,  0.},\n",
      " { 0.,  0.,  0.,  1.}}"
     ]
    }
   ],
   "source": [
    "std::cout << I;"
   ]
  },
  {
   "cell_type": "markdown",
   "metadata": {},
   "source": [
    "# Weird Quirks"
   ]
  },
  {
   "cell_type": "code",
   "execution_count": 37,
   "metadata": {},
   "outputs": [
    {
     "name": "stderr",
     "output_type": "stream",
     "text": [
      "\u001b[1minput_line_44:2:6: \u001b[0m\u001b[0;1;35mwarning: \u001b[0m\u001b[1mresult of comparison against a string literal is unspecified\n",
      "      (use strncmp instead) [-Wstring-compare]\u001b[0m\n",
      " \"s\" == 's'\n",
      "\u001b[0;1;32m ~~~ ^\n",
      "\u001b[0m\u001b[1minput_line_44:2:6: \u001b[0m\u001b[0;1;31merror: \u001b[0m\u001b[1mcomparison between pointer and integer ('const char *' and 'int')\u001b[0m\n",
      " \"s\" == 's'\n",
      "\u001b[0;1;32m ~~~ ^  ~~~\n",
      "\u001b[0m"
     ]
    }
   ],
   "source": [
    "\"s\" == 's'"
   ]
  },
  {
   "cell_type": "code",
   "execution_count": 38,
   "metadata": {},
   "outputs": [],
   "source": [
    "int val = 5;"
   ]
  },
  {
   "cell_type": "code",
   "execution_count": 39,
   "metadata": {},
   "outputs": [],
   "source": [
    "int *p;"
   ]
  },
  {
   "cell_type": "code",
   "execution_count": 40,
   "metadata": {},
   "outputs": [],
   "source": [
    "p = &val;"
   ]
  },
  {
   "cell_type": "code",
   "execution_count": 41,
   "metadata": {},
   "outputs": [
    {
     "name": "stdout",
     "output_type": "stream",
     "text": [
      "5\n",
      "0x10b946fa0"
     ]
    }
   ],
   "source": [
    "std::cout << val << std::endl;\n",
    "std::cout << p;"
   ]
  },
  {
   "cell_type": "code",
   "execution_count": 42,
   "metadata": {},
   "outputs": [
    {
     "name": "stdout",
     "output_type": "stream",
     "text": [
      "5"
     ]
    }
   ],
   "source": [
    "std::cout << *p;"
   ]
  },
  {
   "cell_type": "code",
   "execution_count": null,
   "metadata": {},
   "outputs": [],
   "source": []
  }
 ],
 "metadata": {
  "kernelspec": {
   "display_name": "xeus C++14",
   "language": "",
   "name": "xeus-cling-cpp14"
  },
  "language_info": {
   "codemirror_mode": "text/x-c++src",
   "file_extension": ".cpp",
   "mimetype": "text/x-c++src",
   "name": "c++",
   "version": ""
  }
 },
 "nbformat": 4,
 "nbformat_minor": 2
}
